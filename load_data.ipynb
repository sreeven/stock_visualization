{
 "cells": [
  {
   "cell_type": "code",
   "execution_count": 1,
   "metadata": {},
   "outputs": [],
   "source": [
    "import yfinance as yf\n",
    "import pandas as pd"
   ]
  },
  {
   "cell_type": "code",
   "execution_count": 2,
   "metadata": {},
   "outputs": [],
   "source": [
    "constituents = pd.read_csv('sp500.csv')"
   ]
  },
  {
   "cell_type": "code",
   "execution_count": 3,
   "metadata": {
    "scrolled": true
   },
   "outputs": [],
   "source": [
    "constituents = constituents[[\"Symbol\",\"Security\",\"Sector\",\"GICS Sub-Industry\"]]"
   ]
  },
  {
   "cell_type": "code",
   "execution_count": 4,
   "metadata": {},
   "outputs": [
    {
     "data": {
      "text/html": [
       "<div>\n",
       "<style scoped>\n",
       "    .dataframe tbody tr th:only-of-type {\n",
       "        vertical-align: middle;\n",
       "    }\n",
       "\n",
       "    .dataframe tbody tr th {\n",
       "        vertical-align: top;\n",
       "    }\n",
       "\n",
       "    .dataframe thead th {\n",
       "        text-align: right;\n",
       "    }\n",
       "</style>\n",
       "<table border=\"1\" class=\"dataframe\">\n",
       "  <thead>\n",
       "    <tr style=\"text-align: right;\">\n",
       "      <th></th>\n",
       "      <th>Symbol</th>\n",
       "      <th>Security</th>\n",
       "      <th>Sector</th>\n",
       "      <th>GICS Sub-Industry</th>\n",
       "    </tr>\n",
       "  </thead>\n",
       "  <tbody>\n",
       "    <tr>\n",
       "      <th>0</th>\n",
       "      <td>MMM</td>\n",
       "      <td>3M Company</td>\n",
       "      <td>Industrials</td>\n",
       "      <td>Industrial Conglomerates</td>\n",
       "    </tr>\n",
       "    <tr>\n",
       "      <th>1</th>\n",
       "      <td>ABT</td>\n",
       "      <td>Abbott Laboratories</td>\n",
       "      <td>Health Care</td>\n",
       "      <td>Health Care Equipment</td>\n",
       "    </tr>\n",
       "    <tr>\n",
       "      <th>2</th>\n",
       "      <td>ABBV</td>\n",
       "      <td>AbbVie Inc.</td>\n",
       "      <td>Health Care</td>\n",
       "      <td>Pharmaceuticals</td>\n",
       "    </tr>\n",
       "    <tr>\n",
       "      <th>3</th>\n",
       "      <td>ABMD</td>\n",
       "      <td>ABIOMED Inc</td>\n",
       "      <td>Health Care</td>\n",
       "      <td>Health Care Equipment</td>\n",
       "    </tr>\n",
       "    <tr>\n",
       "      <th>4</th>\n",
       "      <td>ACN</td>\n",
       "      <td>Accenture plc</td>\n",
       "      <td>Information Technology</td>\n",
       "      <td>IT Consulting &amp; Other Services</td>\n",
       "    </tr>\n",
       "    <tr>\n",
       "      <th>...</th>\n",
       "      <td>...</td>\n",
       "      <td>...</td>\n",
       "      <td>...</td>\n",
       "      <td>...</td>\n",
       "    </tr>\n",
       "    <tr>\n",
       "      <th>499</th>\n",
       "      <td>YUM</td>\n",
       "      <td>Yum! Brands Inc</td>\n",
       "      <td>Consumer Discretionary</td>\n",
       "      <td>Restaurants</td>\n",
       "    </tr>\n",
       "    <tr>\n",
       "      <th>500</th>\n",
       "      <td>ZBRA</td>\n",
       "      <td>Zebra Technologies</td>\n",
       "      <td>Information Technology</td>\n",
       "      <td>Electronic Equipment &amp; Instruments</td>\n",
       "    </tr>\n",
       "    <tr>\n",
       "      <th>501</th>\n",
       "      <td>ZBH</td>\n",
       "      <td>Zimmer Biomet</td>\n",
       "      <td>Health Care</td>\n",
       "      <td>Health Care Equipment</td>\n",
       "    </tr>\n",
       "    <tr>\n",
       "      <th>502</th>\n",
       "      <td>ZION</td>\n",
       "      <td>Zions Bancorp</td>\n",
       "      <td>Financials</td>\n",
       "      <td>Regional Banks</td>\n",
       "    </tr>\n",
       "    <tr>\n",
       "      <th>503</th>\n",
       "      <td>ZTS</td>\n",
       "      <td>Zoetis</td>\n",
       "      <td>Health Care</td>\n",
       "      <td>Pharmaceuticals</td>\n",
       "    </tr>\n",
       "  </tbody>\n",
       "</table>\n",
       "<p>504 rows × 4 columns</p>\n",
       "</div>"
      ],
      "text/plain": [
       "    Symbol             Security                  Sector  \\\n",
       "0      MMM           3M Company             Industrials   \n",
       "1      ABT  Abbott Laboratories             Health Care   \n",
       "2     ABBV          AbbVie Inc.             Health Care   \n",
       "3     ABMD          ABIOMED Inc             Health Care   \n",
       "4      ACN        Accenture plc  Information Technology   \n",
       "..     ...                  ...                     ...   \n",
       "499    YUM      Yum! Brands Inc  Consumer Discretionary   \n",
       "500   ZBRA   Zebra Technologies  Information Technology   \n",
       "501    ZBH        Zimmer Biomet             Health Care   \n",
       "502   ZION        Zions Bancorp              Financials   \n",
       "503    ZTS               Zoetis             Health Care   \n",
       "\n",
       "                      GICS Sub-Industry  \n",
       "0              Industrial Conglomerates  \n",
       "1                 Health Care Equipment  \n",
       "2                       Pharmaceuticals  \n",
       "3                 Health Care Equipment  \n",
       "4        IT Consulting & Other Services  \n",
       "..                                  ...  \n",
       "499                         Restaurants  \n",
       "500  Electronic Equipment & Instruments  \n",
       "501               Health Care Equipment  \n",
       "502                      Regional Banks  \n",
       "503                     Pharmaceuticals  \n",
       "\n",
       "[504 rows x 4 columns]"
      ]
     },
     "execution_count": 4,
     "metadata": {},
     "output_type": "execute_result"
    }
   ],
   "source": [
    "constituents"
   ]
  },
  {
   "cell_type": "code",
   "execution_count": 5,
   "metadata": {},
   "outputs": [],
   "source": [
    "symbols = constituents[\"Symbol\"]"
   ]
  },
  {
   "cell_type": "code",
   "execution_count": null,
   "metadata": {
    "scrolled": true
   },
   "outputs": [
    {
     "name": "stdout",
     "output_type": "stream",
     "text": [
      "1 of 504: MMM\n",
      "2 of 504: ABT\n",
      "3 of 504: ABBV\n",
      "4 of 504: ABMD\n",
      "5 of 504: ACN\n",
      "6 of 504: ATVI\n",
      "7 of 504: ADBE\n",
      "8 of 504: AMD\n",
      "9 of 504: AAP\n",
      "yfinance.Ticker object <AES>-------------- TRAILING PE NOT FOUND\n"
     ]
    }
   ],
   "source": [
    "opens = []\n",
    "lows = []\n",
    "highs = []\n",
    "close = []\n",
    "divYield = []\n",
    "marketCap = []\n",
    "beta = []\n",
    "forwardPE = []\n",
    "avgVolume = []\n",
    "trailingPE = []\n",
    "counter = 1\n",
    "\n",
    "for symbol in symbols:\n",
    "    try:\n",
    "        ticker = yf.Ticker(symbol)\n",
    "        history = ticker.history(period='1d').reset_index().iloc[:1]\n",
    "        opens.append(history[\"Open\"])\n",
    "        lows.append(history[\"Low\"])\n",
    "        highs.append(history[\"High\"])\n",
    "        close.append(history[\"Close\"])\n",
    "        info = ticker.info\n",
    "        divYield.append(info['dividendYield'])\n",
    "    #     10 day\n",
    "        marketCap.append(info['marketCap'])\n",
    "        beta.append(info['beta'])\n",
    "        forwardPE.append(info['forwardPE'])\n",
    "        avgVolume.append(info[\"averageVolume\"])\n",
    "        trailingPE.append(info['trailingPE'])\n",
    "\n",
    "        \n",
    "        print(f\"{counter} of 504: {symbol}\")\n",
    "\n",
    "    except KeyError:\n",
    "        print(f\"{ticker}-------------- TRAILING PE NOT FOUND\")\n",
    "        trailingPE.append(0)\n",
    "\n",
    "#         opens.append(0)\n",
    "#         lows.append(0)\n",
    "#         highs.append(0)\n",
    "#         close.append(0)\n",
    "#         divYield.append(0)\n",
    "#         marketCap.append(0)\n",
    "#         beta.append(0)\n",
    "#         forwardPE.append(0)\n",
    "#         avgVolume.append(0)\n",
    "#         trailingPE.append(0)\n",
    "              \n",
    "    counter = counter + 1\n",
    "\n",
    "    \n"
   ]
  },
  {
   "cell_type": "code",
   "execution_count": null,
   "metadata": {},
   "outputs": [],
   "source": [
    "constituents[\"Open\"] = opens\n",
    "constituents[\"Low\"] = lows\n",
    "constituents[\"Close\"] = close\n",
    "constituents[\"High\"] = highs\n",
    "constituents[\"beta\"] = beta\n",
    "constituents[\"forwardPE\"] = forwardPE\n",
    "constituents[\"averageVolume\"] = avgVolume\n",
    "constituents[\"marketCap\"] = marketCap\n",
    "constituents[\"Trailing PE\"] = trailingPE\n",
    "constituents[\"dividendYield\"] = divYield"
   ]
  },
  {
   "cell_type": "code",
   "execution_count": null,
   "metadata": {
    "scrolled": false
   },
   "outputs": [],
   "source": [
    "constituents[\"Open\"] = constituents[\"Open\"].astype(\"float\")\n",
    "constituents[\"Low\"] = constituents[\"Low\"].astype(\"float\")\n",
    "constituents[\"Close\"] = constituents[\"Close\"].astype(\"float\")\n",
    "constituents[\"High\"] = constituents[\"High\"].astype(\"float\")\n",
    "constituents[\"beta\"] = constituents[\"beta\"].astype(\"float\")\n",
    "constituents[\"forwardPE\"] = constituents[\"forwardPE\"].astype(\"float\")\n",
    "constituents[\"averageVolume\"] = constituents[\"averageVolume\"].astype(\"float\")\n",
    "constituents[\"marketCap\"] = constituents[\"marketCap\"].astype(\"float\")\n",
    "constituents[\"Trailing PE\"] = constituents[\"Trailing PE\"].astype(\"float\")\n",
    "constituents[\"dividendYield\"] = constituents[\"dividendYield\"].astype(\"float\")"
   ]
  },
  {
   "cell_type": "code",
   "execution_count": null,
   "metadata": {},
   "outputs": [],
   "source": [
    "record = constituents.to_dict('records')"
   ]
  },
  {
   "cell_type": "code",
   "execution_count": null,
   "metadata": {},
   "outputs": [],
   "source": []
  }
 ],
 "metadata": {
  "kernelspec": {
   "display_name": "Python 3",
   "language": "python",
   "name": "python3"
  },
  "language_info": {
   "codemirror_mode": {
    "name": "ipython",
    "version": 3
   },
   "file_extension": ".py",
   "mimetype": "text/x-python",
   "name": "python",
   "nbconvert_exporter": "python",
   "pygments_lexer": "ipython3",
   "version": "3.6.10"
  }
 },
 "nbformat": 4,
 "nbformat_minor": 4
}
